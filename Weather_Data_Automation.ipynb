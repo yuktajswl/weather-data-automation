{
  "nbformat": 4,
  "nbformat_minor": 0,
  "metadata": {
    "colab": {
      "provenance": []
    },
    "kernelspec": {
      "name": "python3",
      "display_name": "Python 3"
    },
    "language_info": {
      "name": "python"
    }
  },
  "cells": [
    {
      "cell_type": "code",
      "source": [
        "!pip install requests pandas python-dotenv schedule\n"
      ],
      "metadata": {
        "id": "WbmQ1DHtpJ1O"
      },
      "execution_count": null,
      "outputs": []
    },
    {
      "cell_type": "code",
      "source": [
        "from dotenv import load_dotenv\n",
        "import os\n",
        "\n",
        "# Load API key securely\n",
        "load_dotenv()\n",
        "api_key = os.getenv(\"OPENWEATHER_API_KEY\")\n",
        "\n"
      ],
      "metadata": {
        "id": "eigK5dT-pMFY"
      },
      "execution_count": null,
      "outputs": []
    },
    {
      "cell_type": "code",
      "source": [
        "import os\n",
        "from dotenv import load_dotenv\n",
        "\n",
        "load_dotenv()\n",
        "API_KEY = os.getenv(\"OPENWEATHER_API_KEY\")\n",
        "print(\"API Key Loaded Securely:\", API_KEY[:4] + \"****\")\n"
      ],
      "metadata": {
        "id": "5-n7LJcGpOHz"
      },
      "execution_count": null,
      "outputs": []
    },
    {
      "cell_type": "code",
      "source": [
        "import requests\n",
        "\n",
        "def extract_weather_data(cities):\n",
        "    \"\"\"\n",
        "    Fetch weather data for a list of cities from OpenWeatherMap API.\n",
        "    Returns a list of dictionaries (raw API data).\n",
        "    \"\"\"\n",
        "    weather_data = []\n",
        "\n",
        "    for city in cities:\n",
        "        url = f\"http://api.openweathermap.org/data/2.5/weather?q={city}&appid={API_KEY}&units=metric\"\n",
        "        response = requests.get(url)\n",
        "\n",
        "        if response.status_code == 200:\n",
        "            data = response.json()\n",
        "            weather_data.append(data)\n",
        "        else:\n",
        "            print(f\"Failed to fetch data for {city}\")\n",
        "\n",
        "    return weather_data\n",
        "\n",
        "# Test the function\n",
        "cities = [\"Delhi\", \"Mumbai\", \"London\"]\n",
        "raw_data = extract_weather_data(cities)\n",
        "print(f\"Fetched weather data for {len(raw_data)} cities.\")\n"
      ],
      "metadata": {
        "id": "n5DmAXbPpPRg"
      },
      "execution_count": null,
      "outputs": []
    },
    {
      "cell_type": "code",
      "source": [
        "import pandas as pd\n",
        "from datetime import datetime\n",
        "\n",
        "def transform_weather_data(raw_data):\n",
        "    \"\"\"\n",
        "    Transform raw weather data JSON into a clean Pandas DataFrame.\n",
        "    \"\"\"\n",
        "    transformed_data = []\n",
        "\n",
        "    for data in raw_data:\n",
        "        city = data.get(\"name\")\n",
        "        temperature = data[\"main\"][\"temp\"]\n",
        "        humidity = data[\"main\"][\"humidity\"]\n",
        "        weather = data[\"weather\"][0][\"description\"]\n",
        "        timestamp = datetime.fromtimestamp(data[\"dt\"]).strftime('%Y-%m-%d %H:%M:%S')\n",
        "\n",
        "        transformed_data.append({\n",
        "            \"city\": city,\n",
        "            \"temperature\": temperature,\n",
        "            \"humidity\": humidity,\n",
        "            \"weather\": weather,\n",
        "            \"timestamp\": timestamp\n",
        "        })\n",
        "\n",
        "    df = pd.DataFrame(transformed_data)\n",
        "    return df\n",
        "\n",
        "# Test the function\n",
        "weather_df = transform_weather_data(raw_data)\n",
        "print(weather_df)\n"
      ],
      "metadata": {
        "id": "Z7OoVh7fpV0i"
      },
      "execution_count": null,
      "outputs": []
    },
    {
      "cell_type": "code",
      "source": [
        "def load_weather_data(df, filename=\"weather_data.csv\"):\n",
        "    \"\"\"\n",
        "    Save the weather DataFrame to a CSV file.\n",
        "    \"\"\"\n",
        "    df.to_csv(filename, index=False)\n",
        "    print(f\"Data saved to {filename}\")\n",
        "\n",
        "# Test the function\n",
        "load_weather_data(weather_df)\n"
      ],
      "metadata": {
        "id": "w8GGFAMepnwo"
      },
      "execution_count": null,
      "outputs": []
    },
    {
      "cell_type": "code",
      "source": [
        "import schedule\n",
        "import time\n",
        "\n",
        "def run_pipeline():\n",
        "    print(\"\\nRunning ETL pipeline...\")\n",
        "    cities = [\"Delhi\", \"Mumbai\", \"London\"]\n",
        "    raw_data = extract_weather_data(cities)\n",
        "    if raw_data:\n",
        "        weather_df = transform_weather_data(raw_data)\n",
        "        load_weather_data(weather_df)\n",
        "        print(weather_df)\n",
        "    else:\n",
        "        print(\"No data fetched.\")\n",
        "\n",
        "# Schedule the job every 1 minute\n",
        "schedule.every(1).minutes.do(run_pipeline)\n",
        "\n",
        "# Run the scheduler for 5 minutes (demo)\n",
        "start_time = time.time()\n",
        "while time.time() - start_time < 300:  # 300 sec = 5 min\n",
        "    schedule.run_pending()\n",
        "    time.sleep(1)\n"
      ],
      "metadata": {
        "id": "6Q2DqP1mpxP0"
      },
      "execution_count": null,
      "outputs": []
    }
  ]
}