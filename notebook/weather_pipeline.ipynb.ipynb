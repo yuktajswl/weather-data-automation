{
  "nbformat": 4,
  "nbformat_minor": 0,
  "metadata": {
    "colab": {
      "provenance": []
    },
    "kernelspec": {
      "name": "python3",
      "display_name": "Python 3"
    },
    "language_info": {
      "name": "python"
    }
  },
  "cells": [
    {
      "cell_type": "code",
      "source": [
        "!pip install requests pandas python-dotenv schedule\n"
      ],
      "metadata": {
        "colab": {
          "base_uri": "https://localhost:8080/"
        },
        "id": "WbmQ1DHtpJ1O",
        "outputId": "a68044da-0032-4a58-fba1-e80bdadacb36"
      },
      "execution_count": 25,
      "outputs": [
        {
          "output_type": "stream",
          "name": "stdout",
          "text": [
            "Requirement already satisfied: requests in /usr/local/lib/python3.11/dist-packages (2.32.3)\n",
            "Requirement already satisfied: pandas in /usr/local/lib/python3.11/dist-packages (2.2.2)\n",
            "Requirement already satisfied: python-dotenv in /usr/local/lib/python3.11/dist-packages (1.1.1)\n",
            "Requirement already satisfied: schedule in /usr/local/lib/python3.11/dist-packages (1.2.2)\n",
            "Requirement already satisfied: charset-normalizer<4,>=2 in /usr/local/lib/python3.11/dist-packages (from requests) (3.4.2)\n",
            "Requirement already satisfied: idna<4,>=2.5 in /usr/local/lib/python3.11/dist-packages (from requests) (3.10)\n",
            "Requirement already satisfied: urllib3<3,>=1.21.1 in /usr/local/lib/python3.11/dist-packages (from requests) (2.5.0)\n",
            "Requirement already satisfied: certifi>=2017.4.17 in /usr/local/lib/python3.11/dist-packages (from requests) (2025.7.14)\n",
            "Requirement already satisfied: numpy>=1.23.2 in /usr/local/lib/python3.11/dist-packages (from pandas) (2.0.2)\n",
            "Requirement already satisfied: python-dateutil>=2.8.2 in /usr/local/lib/python3.11/dist-packages (from pandas) (2.9.0.post0)\n",
            "Requirement already satisfied: pytz>=2020.1 in /usr/local/lib/python3.11/dist-packages (from pandas) (2025.2)\n",
            "Requirement already satisfied: tzdata>=2022.7 in /usr/local/lib/python3.11/dist-packages (from pandas) (2025.2)\n",
            "Requirement already satisfied: six>=1.5 in /usr/local/lib/python3.11/dist-packages (from python-dateutil>=2.8.2->pandas) (1.17.0)\n"
          ]
        }
      ]
    },
    {
      "cell_type": "code",
      "source": [
        "with open(\".env\", \"w\") as f:\n",
        "    f.write(\"OPENWEATHER_API_KEY=c9de602e3a29c24ecacd5dc2ac930fd9\")\n"
      ],
      "metadata": {
        "id": "eigK5dT-pMFY"
      },
      "execution_count": 26,
      "outputs": []
    },
    {
      "cell_type": "code",
      "source": [
        "import os\n",
        "from dotenv import load_dotenv\n",
        "\n",
        "load_dotenv()\n",
        "API_KEY = os.getenv(\"OPENWEATHER_API_KEY\")\n",
        "print(\"API Key Loaded Securely:\", API_KEY[:4] + \"****\")\n"
      ],
      "metadata": {
        "colab": {
          "base_uri": "https://localhost:8080/"
        },
        "id": "5-n7LJcGpOHz",
        "outputId": "0ba371df-706b-4e3c-845b-eb06b8bb8d24"
      },
      "execution_count": 27,
      "outputs": [
        {
          "output_type": "stream",
          "name": "stdout",
          "text": [
            "API Key Loaded Securely: c9de****\n"
          ]
        }
      ]
    },
    {
      "cell_type": "code",
      "source": [
        "import requests\n",
        "\n",
        "def extract_weather_data(cities):\n",
        "    \"\"\"\n",
        "    Fetch weather data for a list of cities from OpenWeatherMap API.\n",
        "    Returns a list of dictionaries (raw API data).\n",
        "    \"\"\"\n",
        "    weather_data = []\n",
        "\n",
        "    for city in cities:\n",
        "        url = f\"http://api.openweathermap.org/data/2.5/weather?q={city}&appid={API_KEY}&units=metric\"\n",
        "        response = requests.get(url)\n",
        "\n",
        "        if response.status_code == 200:\n",
        "            data = response.json()\n",
        "            weather_data.append(data)\n",
        "        else:\n",
        "            print(f\"Failed to fetch data for {city}\")\n",
        "\n",
        "    return weather_data\n",
        "\n",
        "# Test the function\n",
        "cities = [\"Delhi\", \"Mumbai\", \"London\"]\n",
        "raw_data = extract_weather_data(cities)\n",
        "print(f\"Fetched weather data for {len(raw_data)} cities.\")\n"
      ],
      "metadata": {
        "colab": {
          "base_uri": "https://localhost:8080/"
        },
        "id": "n5DmAXbPpPRg",
        "outputId": "a2ff7030-a5a1-4726-f88a-575dd36aedb0"
      },
      "execution_count": 28,
      "outputs": [
        {
          "output_type": "stream",
          "name": "stdout",
          "text": [
            "Fetched weather data for 3 cities.\n"
          ]
        }
      ]
    },
    {
      "cell_type": "code",
      "source": [
        "import pandas as pd\n",
        "from datetime import datetime\n",
        "\n",
        "def transform_weather_data(raw_data):\n",
        "    \"\"\"\n",
        "    Transform raw weather data JSON into a clean Pandas DataFrame.\n",
        "    \"\"\"\n",
        "    transformed_data = []\n",
        "\n",
        "    for data in raw_data:\n",
        "        city = data.get(\"name\")\n",
        "        temperature = data[\"main\"][\"temp\"]\n",
        "        humidity = data[\"main\"][\"humidity\"]\n",
        "        weather = data[\"weather\"][0][\"description\"]\n",
        "        timestamp = datetime.fromtimestamp(data[\"dt\"]).strftime('%Y-%m-%d %H:%M:%S')\n",
        "\n",
        "        transformed_data.append({\n",
        "            \"city\": city,\n",
        "            \"temperature\": temperature,\n",
        "            \"humidity\": humidity,\n",
        "            \"weather\": weather,\n",
        "            \"timestamp\": timestamp\n",
        "        })\n",
        "\n",
        "    df = pd.DataFrame(transformed_data)\n",
        "    return df\n",
        "\n",
        "# Test the function\n",
        "weather_df = transform_weather_data(raw_data)\n",
        "print(weather_df)\n"
      ],
      "metadata": {
        "colab": {
          "base_uri": "https://localhost:8080/"
        },
        "id": "Z7OoVh7fpV0i",
        "outputId": "6f41f5d8-ac90-4789-affc-79286ff8ac03"
      },
      "execution_count": 29,
      "outputs": [
        {
          "output_type": "stream",
          "name": "stdout",
          "text": [
            "     city  temperature  humidity          weather            timestamp\n",
            "0   Delhi        34.05        59             haze  2025-07-27 11:23:05\n",
            "1  Mumbai        28.99        79             haze  2025-07-27 11:25:08\n",
            "2  London        21.19        60  overcast clouds  2025-07-27 11:24:38\n"
          ]
        }
      ]
    },
    {
      "cell_type": "code",
      "source": [
        "def load_weather_data(df, filename=\"weather_data.csv\"):\n",
        "    \"\"\"\n",
        "    Save the weather DataFrame to a CSV file.\n",
        "    \"\"\"\n",
        "    df.to_csv(filename, index=False)\n",
        "    print(f\"Data saved to {filename}\")\n",
        "\n",
        "# Test the function\n",
        "load_weather_data(weather_df)\n"
      ],
      "metadata": {
        "colab": {
          "base_uri": "https://localhost:8080/"
        },
        "id": "w8GGFAMepnwo",
        "outputId": "12b215fc-f8da-48f8-efcd-82d122d88593"
      },
      "execution_count": 30,
      "outputs": [
        {
          "output_type": "stream",
          "name": "stdout",
          "text": [
            "Data saved to weather_data.csv\n"
          ]
        }
      ]
    },
    {
      "cell_type": "code",
      "source": [
        "import schedule\n",
        "import time\n",
        "\n",
        "def run_pipeline():\n",
        "    print(\"\\nRunning ETL pipeline...\")\n",
        "    cities = [\"Delhi\", \"Mumbai\", \"London\"]\n",
        "    raw_data = extract_weather_data(cities)\n",
        "    if raw_data:\n",
        "        weather_df = transform_weather_data(raw_data)\n",
        "        load_weather_data(weather_df)\n",
        "        print(weather_df)\n",
        "    else:\n",
        "        print(\"No data fetched.\")\n",
        "\n",
        "# Schedule the job every 1 minute\n",
        "schedule.every(1).minutes.do(run_pipeline)\n",
        "\n",
        "# Run the scheduler for 5 minutes (demo)\n",
        "start_time = time.time()\n",
        "while time.time() - start_time < 300:  # 300 sec = 5 min\n",
        "    schedule.run_pending()\n",
        "    time.sleep(1)\n"
      ],
      "metadata": {
        "colab": {
          "base_uri": "https://localhost:8080/"
        },
        "id": "6Q2DqP1mpxP0",
        "outputId": "4005350a-8d13-4d2a-9926-635748c334bc"
      },
      "execution_count": 31,
      "outputs": [
        {
          "output_type": "stream",
          "name": "stdout",
          "text": [
            "\n",
            "Running ETL pipeline...\n",
            "Data saved to weather_data.csv\n",
            "     city  temperature  humidity          weather            timestamp\n",
            "0   Delhi        34.05        59             haze  2025-07-27 11:26:40\n",
            "1  Mumbai        28.99        79             haze  2025-07-27 11:26:40\n",
            "2  London        21.14        60  overcast clouds  2025-07-27 11:29:40\n",
            "\n",
            "Running ETL pipeline...\n",
            "Data saved to weather_data.csv\n",
            "     city  temperature  humidity          weather            timestamp\n",
            "0   Delhi        34.05        59             haze  2025-07-27 11:26:40\n",
            "1  Mumbai        28.99        79             haze  2025-07-27 11:26:40\n",
            "2  London        21.14        60  overcast clouds  2025-07-27 11:29:40\n",
            "\n",
            "Running ETL pipeline...\n",
            "Data saved to weather_data.csv\n",
            "     city  temperature  humidity          weather            timestamp\n",
            "0   Delhi        34.05        59             haze  2025-07-27 11:34:07\n",
            "1  Mumbai        28.99        79             haze  2025-07-27 11:25:08\n",
            "2  London        21.19        60  overcast clouds  2025-07-27 11:24:38\n",
            "\n",
            "Running ETL pipeline...\n",
            "Data saved to weather_data.csv\n",
            "     city  temperature  humidity          weather            timestamp\n",
            "0   Delhi        34.05        59             haze  2025-07-27 11:28:46\n",
            "1  Mumbai        28.99        79             haze  2025-07-27 11:25:08\n",
            "2  London        21.19        60  overcast clouds  2025-07-27 11:24:06\n"
          ]
        }
      ]
    }
  ]
}